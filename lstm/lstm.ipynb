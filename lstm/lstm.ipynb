{
 "cells": [
  {
   "cell_type": "code",
   "execution_count": 1,
   "metadata": {},
   "outputs": [
    {
     "name": "stdout",
     "output_type": "stream",
     "text": [
      "2.12.0\n"
     ]
    }
   ],
   "source": [
    "import csv\n",
    "import tensorflow as tf\n",
    "import numpy as np\n",
    "from keras.preprocessing.text import Tokenizer\n",
    "from keras.utils import pad_sequences\n",
    "\n",
    "from keras.models import Sequential\n",
    "from keras.layers import Dense, Flatten, LSTM, Dropout, Activation, Embedding, Bidirectional\n",
    "from keras.callbacks import ModelCheckpoint\n",
    "\n",
    "\n",
    "import nltk\n",
    "\n",
    "\n",
    "print(tf.__version__)"
   ]
  },
  {
   "cell_type": "code",
   "execution_count": 2,
   "metadata": {},
   "outputs": [],
   "source": [
    "def lempel_ziv_complexity(binary_sequence):\n",
    "    \"\"\"Lempel-Ziv complexity for a binary sequence, in simple Python code.\"\"\"\n",
    "    u, v, w = 0, 1, 1\n",
    "    v_max = 1\n",
    "    length = len(binary_sequence)\n",
    "    complexity = 1\n",
    "    while True:\n",
    "        if binary_sequence[u + v - 1] == binary_sequence[w + v - 1]:\n",
    "            v += 1\n",
    "            if w + v >= length:\n",
    "                complexity += 1\n",
    "                break\n",
    "        else:\n",
    "            if v > v_max:\n",
    "                v_max = v\n",
    "            u += 1\n",
    "            if u == w:\n",
    "                complexity += 1\n",
    "                w += v_max\n",
    "                if w > length:\n",
    "                    break\n",
    "                else:\n",
    "                    u = 0\n",
    "                    v = 1\n",
    "                    v_max = 1\n",
    "            else:\n",
    "                v = 1\n",
    "    return complexity\n"
   ]
  },
  {
   "cell_type": "code",
   "execution_count": 3,
   "metadata": {},
   "outputs": [
    {
     "name": "stderr",
     "output_type": "stream",
     "text": [
      "[nltk_data] Downloading package stopwords to\n",
      "[nltk_data]     C:\\Users\\Siana\\AppData\\Roaming\\nltk_data...\n",
      "[nltk_data]   Package stopwords is already up-to-date!\n"
     ]
    },
    {
     "name": "stdout",
     "output_type": "stream",
     "text": [
      "2225\n",
      "2225\n"
     ]
    }
   ],
   "source": [
    "nltk.download('stopwords')\n",
    "from nltk.corpus import stopwords\n",
    "STOPWORDS = set(stopwords.words('english'))\n",
    "\n",
    "vocab_size = 5000 \n",
    "embedding_dim = 64\n",
    "max_length = 200\n",
    "trunc_type = 'post'\n",
    "padding_type = 'post'\n",
    "oov_tok = '' #OOV = Out of Vocabulary\n",
    "training_portion = .8\n",
    "\n",
    "articles = []\n",
    "labels = []\n",
    "\n",
    "with open(\"/bbc-text.csv\", 'r') as csvfile:\n",
    "    reader = csv.reader(csvfile, delimiter=',')\n",
    "    next(reader)\n",
    "    for row in reader:\n",
    "        labels.append(row[0])\n",
    "        article = row[1]\n",
    "        for word in STOPWORDS:\n",
    "            token = ' ' + word + ' '\n",
    "            article = article.replace(token, ' ')\n",
    "            article = article.replace(' ', ' ')\n",
    "        articles.append(article)\n",
    "print(len(labels))\n",
    "print(len(articles))"
   ]
  },
  {
   "cell_type": "code",
   "execution_count": 4,
   "metadata": {},
   "outputs": [
    {
     "name": "stdout",
     "output_type": "stream",
     "text": [
      "train_size 1780\n",
      "train_articles 1780\n",
      "train_labels 1780\n",
      "validation_articles 445\n",
      "validation_labels 445\n",
      "[2431, 1, 225, 4996, 22, 642, 587, 225, 4996, 1, 1, 1662, 1, 1, 2431, 22, 565, 1, 1, 140, 278, 1, 140, 278, 796, 822, 662, 2307, 1, 1144, 1693, 1, 1720, 4997, 1, 1, 1, 1, 1, 4739, 1, 1, 122, 4515, 1, 2, 2874, 1506, 352, 4740, 1, 52, 341, 1, 352, 2172, 3961, 41, 22, 3794, 1, 1, 1, 1, 543, 1, 1, 1, 835, 631, 2366, 347, 4741, 1, 365, 22, 1, 787, 2367, 1, 4302, 138, 10, 1, 3665, 682, 3532, 1, 22, 1, 414, 822, 662, 1, 90, 13, 633, 1, 225, 4996, 1, 599, 1, 1693, 1021, 1, 4998, 807, 1863, 117, 1, 1, 1, 2974, 22, 1, 99, 278, 1, 1608, 4999, 543, 492, 1, 1444, 4742, 778, 1320, 1, 1860, 10, 33, 642, 319, 1, 62, 478, 565, 301, 1507, 22, 479, 1, 1, 1665, 1, 797, 1, 3066, 1, 1365, 6, 1, 2431, 565, 22, 2971, 4736, 1, 1, 1, 1, 1, 850, 39, 1824, 675, 297, 26, 979, 1, 882, 22, 361, 22, 13, 301, 1507, 1343, 374, 20, 63, 883, 1096, 4303, 247]\n",
      "[91, 160, 1141, 1106, 49, 979, 755, 1, 89, 1304, 4289, 129, 175, 3654, 1215, 1194, 1577, 42, 7, 893, 91, 1, 334, 85, 20, 14, 130, 3261, 1216, 2421, 570, 451, 1376, 58, 3379, 3522, 1660, 8, 921, 730, 10, 844, 1, 9, 598, 1578, 1107, 395, 1939, 1106, 731, 49, 538, 1398, 2012, 1623, 134, 249, 113, 2355, 795, 4981, 980, 584, 10, 3955, 3956, 921, 2562, 129, 344, 175, 3654, 1, 1, 39, 62, 2867, 28, 9, 4724, 18, 1305, 136, 416, 7, 143, 1423, 71, 4502, 436, 4982, 91, 1107, 77, 1, 82, 2013, 53, 1, 91, 6, 1008, 609, 89, 1304, 91, 1965, 131, 137, 420, 9, 2868, 38, 152, 1234, 89, 1304, 4725, 7, 436, 4982, 3153, 6, 2492, 1, 431, 1126, 1, 1424, 571, 1235, 1901, 1, 766, 9, 538, 1398, 2012, 134, 2069, 400, 845, 1966, 1601, 34, 1716, 2869, 1, 1, 2422, 244, 9, 2624, 82, 732, 6, 1172, 1195, 152, 720, 591, 1, 124, 28, 1305, 1689, 432, 83, 933, 115, 20, 14, 18, 3154, 1, 37, 1484, 1, 23, 37, 87, 335, 2356, 37, 467, 255, 1966, 1359, 328, 1, 299, 732, 1173, 18, 2870, 1716, 1, 294, 756, 1074, 395, 2014, 387, 431, 2014, 2, 1360, 1, 1716, 2166, 67, 1, 1, 1717, 249, 1661, 3059, 1174, 395, 41, 878, 246, 2792, 345, 53, 548, 400, 2, 1, 1, 655, 1361, 202, 91, 3957, 91, 90, 42, 7, 320, 395, 77, 893, 1, 91, 1106, 400, 538, 9, 845, 2422, 11, 38, 1, 995, 514, 483, 2070, 160, 572, 1, 128, 7, 320, 77, 893, 1217, 1126, 1464, 346, 54, 2214, 1218, 741, 92, 256, 274, 1019, 71, 623, 346, 2423, 756, 1216, 2357, 1718, 1, 3783, 3523, 1, 1126, 2014, 177, 371, 1399, 77, 53, 548, 105, 1141, 3, 1, 1047, 93, 2962, 1, 2625, 1, 102, 902, 440, 452, 2, 3, 1, 2871, 451, 1425, 43, 77, 429, 31, 8, 1019, 921, 1, 2562, 30, 1, 91, 1690, 879, 89, 1304, 91, 1965, 1, 30, 8, 1624, 1, 1, 4290, 1579, 4289, 656, 1, 3784, 1008, 572, 4291, 2867, 10, 880, 656, 58, 1, 1262, 1, 1, 91, 1554, 934, 4724, 1, 577, 4106, 10, 9, 235, 2012, 91, 134, 1, 95, 656, 3262, 1, 58, 520, 673, 2626, 3784, 4983, 3380, 483, 4726, 39, 4502, 1, 91, 1747, 673, 269, 116, 239, 2627, 354, 644, 58, 4107, 757, 3655, 4724, 146, 1, 400, 7, 71, 1748, 1107, 767, 910, 118, 584, 3381, 1316, 1578, 1, 1602, 7, 893, 77, 77]\n",
      "len train_sequnces[0]:  425\n",
      "len train_padded[0]:  200\n",
      "len train_sequences[1]:  192\n",
      "len train_padded[1]:  200\n",
      "len train_sequences[10]:  186\n",
      "len train_padded[10]:  200\n"
     ]
    }
   ],
   "source": [
    "labels[:2]\n",
    "\n",
    "articles[:2]\n",
    "\n",
    "train_size = int(len(articles) * training_portion)\n",
    "\n",
    "train_articles = articles[0: train_size]\n",
    "train_labels = labels[0: train_size]\n",
    "\n",
    "validation_articles = articles[train_size:]\n",
    "validation_labels = labels[train_size:]\n",
    "\n",
    "print(\"train_size\",  train_size)\n",
    "print(f\"train_articles {len(train_articles)}\")\n",
    "print(\"train_labels\", len(train_labels))\n",
    "print(\"validation_articles\", len(validation_articles))\n",
    "print(\"validation_labels\", len(validation_labels))\n",
    "\n",
    "tokenizer = Tokenizer(num_words = vocab_size, oov_token=oov_tok)\n",
    "tokenizer.fit_on_texts(train_articles)\n",
    "word_index = tokenizer.word_index\n",
    "\n",
    "train_sequences = tokenizer.texts_to_sequences(train_articles)\n",
    "\n",
    "print(train_sequences[10]), len(train_sequences[10])\n",
    "\n",
    "print(train_sequences[0]), len(train_sequences[0])\n",
    "\n",
    "train_padded = pad_sequences(train_sequences, maxlen=max_length, padding=padding_type, truncating=trunc_type)\n",
    "\n",
    "train_padded[10]\n",
    "\n",
    "\n",
    "\n",
    "print(\"len train_sequnces[0]: \", len(train_sequences[0]))\n",
    "print(\"len train_padded[0]: \", len(train_padded[0]))\n",
    "\n",
    "print(\"len train_sequences[1]: \", len(train_sequences[1]))\n",
    "print(\"len train_padded[1]: \", len(train_padded[1]))\n",
    "\n",
    "print(\"len train_sequences[10]: \", len(train_sequences[10]))\n",
    "print(\"len train_padded[10]: \", len(train_padded[10]))"
   ]
  },
  {
   "cell_type": "code",
   "execution_count": 5,
   "metadata": {},
   "outputs": [
    {
     "name": "stdout",
     "output_type": "stream",
     "text": [
      "445\n",
      "(445, 200)\n",
      "{'sport', 'politics', 'business', 'tech', 'entertainment'}\n",
      "[4]\n",
      "[2]\n",
      "[1]\n",
      "(1780, 1)\n",
      "-------------\n",
      "[5]\n",
      "[4]\n",
      "[3]\n",
      "(445, 1)\n",
      "Model: \"sequential\"\n",
      "_________________________________________________________________\n",
      " Layer (type)                Output Shape              Param #   \n",
      "=================================================================\n",
      " embedding (Embedding)       (None, None, 64)          320000    \n",
      "                                                                 \n",
      " dropout (Dropout)           (None, None, 64)          0         \n",
      "                                                                 \n",
      " bidirectional (Bidirectiona  (None, 128)              66048     \n",
      " l)                                                              \n",
      "                                                                 \n",
      " dense (Dense)               (None, 6)                 774       \n",
      "                                                                 \n",
      "=================================================================\n",
      "Total params: 386,822\n",
      "Trainable params: 386,822\n",
      "Non-trainable params: 0\n",
      "_________________________________________________________________\n"
     ]
    }
   ],
   "source": [
    "validation_sequences = tokenizer.texts_to_sequences(validation_articles)\n",
    "validation_padded = pad_sequences(validation_sequences, maxlen=max_length, padding=padding_type, truncating=trunc_type)\n",
    "\n",
    "print(len(validation_sequences))\n",
    "print(validation_padded.shape)\n",
    "\n",
    "print(set(labels))\n",
    "\n",
    "\n",
    "label_tokenizer = Tokenizer()\n",
    "label_tokenizer.fit_on_texts(labels)\n",
    "\n",
    "training_label_seq = np.array(label_tokenizer.texts_to_sequences(train_labels))\n",
    "validation_label_seq = np.array(label_tokenizer.texts_to_sequences(validation_labels))\n",
    "\n",
    "label_tokenizer.word_index\n",
    "\n",
    "\n",
    "print(training_label_seq[0])\n",
    "print(training_label_seq[1])\n",
    "print(training_label_seq[2])\n",
    "print(training_label_seq.shape)\n",
    "print('-------------')\n",
    "print(validation_label_seq[0])\n",
    "print(validation_label_seq[1])\n",
    "print(validation_label_seq[2])\n",
    "print(validation_label_seq.shape)\n",
    "\n",
    "model = Sequential()\n",
    "\n",
    "model.add(Embedding(vocab_size, embedding_dim))\n",
    "model.add(Dropout(0.5))\n",
    "model.add(Bidirectional(LSTM(embedding_dim)))\n",
    "model.add(Dense(6, activation='softmax'))\n",
    "\n",
    "model.summary()\n",
    "\n",
    "epochs = 50\n",
    "learning_rate = 0.001\n",
    "decay_rate = learning_rate / epochs\n",
    "optimizer = tf.keras.optimizers.legacy.Adam(learning_rate=learning_rate, decay=1e-6)\n",
    "\n",
    "\n",
    "model.compile(\n",
    "    loss='sparse_categorical_crossentropy',\n",
    "    optimizer=optimizer,\n",
    "    metrics=['accuracy'],\n",
    ")"
   ]
  },
  {
   "cell_type": "code",
   "execution_count": 6,
   "metadata": {},
   "outputs": [
    {
     "name": "stdout",
     "output_type": "stream",
     "text": [
      "Epoch 1/10\n",
      "56/56 [==============================] - 7s 55ms/step\n",
      "56/56 [==============================] - 35s 379ms/step - loss: 1.6117 - accuracy: 0.2831 - val_loss: 1.4757 - val_accuracy: 0.3056\n",
      "Epoch 2/10\n",
      "56/56 [==============================] - 8s 57ms/step\n",
      "56/56 [==============================] - 18s 317ms/step - loss: 1.2399 - accuracy: 0.4961 - val_loss: 0.9137 - val_accuracy: 0.6899\n",
      "Epoch 3/10\n",
      "56/56 [==============================] - 4s 45ms/step\n",
      "56/56 [==============================] - 13s 235ms/step - loss: 0.6277 - accuracy: 0.7972 - val_loss: 0.6184 - val_accuracy: 0.6899\n",
      "Epoch 4/10\n",
      "56/56 [==============================] - 5s 63ms/step\n",
      "56/56 [==============================] - 14s 255ms/step - loss: 0.3764 - accuracy: 0.8837 - val_loss: 0.3090 - val_accuracy: 0.9236\n",
      "Epoch 5/10\n",
      "56/56 [==============================] - 6s 64ms/step\n",
      "56/56 [==============================] - 19s 335ms/step - loss: 0.2992 - accuracy: 0.9157 - val_loss: 0.9144 - val_accuracy: 0.6360\n",
      "Epoch 6/10\n",
      "56/56 [==============================] - 5s 56ms/step\n",
      "56/56 [==============================] - 19s 344ms/step - loss: 0.3487 - accuracy: 0.9140 - val_loss: 0.3359 - val_accuracy: 0.9101\n",
      "Epoch 7/10\n",
      "56/56 [==============================] - 5s 52ms/step\n",
      "56/56 [==============================] - 15s 277ms/step - loss: 0.2085 - accuracy: 0.9455 - val_loss: 0.2197 - val_accuracy: 0.9461\n",
      "Epoch 8/10\n",
      "56/56 [==============================] - 5s 59ms/step\n",
      "56/56 [==============================] - 16s 288ms/step - loss: 0.0715 - accuracy: 0.9831 - val_loss: 0.1874 - val_accuracy: 0.9506\n",
      "Epoch 9/10\n",
      "56/56 [==============================] - 6s 72ms/step\n",
      "56/56 [==============================] - 17s 298ms/step - loss: 0.0583 - accuracy: 0.9820 - val_loss: 0.1661 - val_accuracy: 0.9573\n",
      "Epoch 10/10\n",
      "56/56 [==============================] - 4s 50ms/step\n",
      "56/56 [==============================] - 14s 253ms/step - loss: 0.0382 - accuracy: 0.9871 - val_loss: 0.1466 - val_accuracy: 0.9573\n",
      "outputlayer is []\n"
     ]
    }
   ],
   "source": [
    "output_layers = []\n",
    "complexities = []\n",
    "\n",
    "def get_output_layer(epoch, logs):\n",
    "    output_layer = model.layers[2].output # index 2 corresponds to the LSTM layer\n",
    "    intermediate_layer_model = tf.keras.models.Model(inputs=model.input, outputs=output_layer)\n",
    "    intermediate_output = intermediate_layer_model.predict(train_padded)\n",
    "    binary_output = (intermediate_output > 0.5).astype(int) # Convert to binary\n",
    "    complexity = lempel_ziv_complexity(binary_output[0]) # Calculate complexity\n",
    "    complexities.append(complexity)\n",
    "\n",
    "\n",
    "# callback = tf.keras.callbacks.LambdaCallback(on_epoch_end=get_output_layer)\n",
    "\n",
    "num_epochs = 10\n",
    "\n",
    "\n",
    "\n",
    "# model.fit(train_padded, train_labels, epochs=10, batch_size=32, callbacks=[tf.keras.callbacks.LambdaCallback(on_epoch_end=get_output_layer)])\n",
    "\n",
    "history = model.fit(train_padded, training_label_seq, epochs=num_epochs, validation_data=(validation_padded, validation_label_seq), callbacks=[tf.keras.callbacks.LambdaCallback(on_epoch_end=get_output_layer)])\n",
    "\n",
    "print(\"outputlayer is\" , output_layers)\n"
   ]
  },
  {
   "cell_type": "code",
   "execution_count": 7,
   "metadata": {},
   "outputs": [],
   "source": [
    "import matplotlib.pyplot as plt\n"
   ]
  },
  {
   "cell_type": "code",
   "execution_count": 9,
   "metadata": {},
   "outputs": [
    {
     "data": {
      "image/png": "[encoded data removed]",
      "text/plain": [
       "<Figure size 432x288 with 1 Axes>"
      ]
     },
     "metadata": {
      "needs_background": "light"
     },
     "output_type": "display_data"
    },
    {
     "data": {
      "image/png": "[encoded data removed]",
      "text/plain": [
       "<Figure size 432x288 with 1 Axes>"
      ]
     },
     "metadata": {
      "needs_background": "light"
     },
     "output_type": "display_data"
    },
    {
     "data": {
      "image/png": "[encoded data removed]",
      "text/plain": [
       "<Figure size 432x288 with 1 Axes>"
      ]
     },
     "metadata": {
      "needs_background": "light"
     },
     "output_type": "display_data"
    }
   ],
   "source": [
    "\n",
    "def plot_graphs(history, string):\n",
    "  plt.plot(history.history[string])\n",
    "  plt.plot(history.history['val_'+string])\n",
    "  plt.xlabel(\"Epochs\")\n",
    "  plt.ylabel(string)\n",
    "  plt.legend([string, 'val_'+string])\n",
    "  plt.show()\n",
    "  \n",
    "plot_graphs(history, \"accuracy\")\n",
    "plot_graphs(history, \"loss\")\n",
    "\n",
    "plt.plot(range(1, len(complexities)+1), complexities)\n",
    "plt.savefig(\"/plot.png\")\n",
    "plt.show()"
   ]
  }
 ],
 "metadata": {
  "kernelspec": {
   "display_name": "base",
   "language": "python",
   "name": "python3"
  },
  "language_info": {
   "codemirror_mode": {
    "name": "ipython",
    "version": 3
   },
   "file_extension": ".py",
   "mimetype": "text/x-python",
   "name": "python",
   "nbconvert_exporter": "python",
   "pygments_lexer": "ipython3",
   "version": "3.8.8"
  },
  "orig_nbformat": 4
 },
 "nbformat": 4,
 "nbformat_minor": 2
}
